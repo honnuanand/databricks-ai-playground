{
 "cells": [
  {
   "cell_type": "markdown",
   "metadata": {
    "application/vnd.databricks.v1+cell": {
     "cellMetadata": {},
     "inputWidgets": {},
     "nuid": "669b79eb-8d5e-49b8-bd0b-c1db99a1e7bf",
     "showTitle": false,
     "tableResultSettingsMap": {},
     "title": ""
    }
   },
   "source": [
    "# 📘 Register and Use Unity Catalog Tool with LangChain Agent\n",
    "This notebook demonstrates how to:\n",
    "- Define a Python function\n",
    "- Register it using SQL in Unity Catalog\n",
    "- Load it with `UCFunctionToolkit`\n",
    "- Use it with a LangChain agent powered by a Databricks-hosted LLM"
   ]
  },
  {
   "cell_type": "markdown",
   "metadata": {
    "application/vnd.databricks.v1+cell": {
     "cellMetadata": {},
     "inputWidgets": {},
     "nuid": "65509f0b-1cd1-4dd2-8286-c6fa62a538ec",
     "showTitle": false,
     "tableResultSettingsMap": {},
     "title": ""
    }
   },
   "source": [
    "---\n",
    "\n",
    "## ⚙️ Tool Setup\n",
    "\n",
    "We defined a Python function to extract the top 10 keywords from a text string and registered it as a Unity Catalog Python function:\n",
    "\n",
    "```sql\n",
    "CREATE FUNCTION IF NOT EXISTS arao.tools.extract_keywords(text STRING)\n",
    "RETURNS ARRAY<STRING>\n",
    "LANGUAGE PYTHON\n",
    "AS $$\n",
    "import re, collections\n",
    "stop = {\"the\", \"and\", \"of\", \"in\", \"to\", \"a\", \"an\", \"is\"}\n",
    "tokens = re.findall(r\"\\b\\w+\\b\", text.lower())\n",
    "return [w for w, _ in collections.Counter(\n",
    "    t for t in tokens if t not in stop\n",
    ").most_common(10)]\n",
    "$$;\n",
    "```\n",
    "\n",
    "This function is discoverable using `UCFunctionToolkit` and can be loaded into LangChain as a tool."
   ]
  },
  {
   "cell_type": "markdown",
   "metadata": {
    "application/vnd.databricks.v1+cell": {
     "cellMetadata": {},
     "inputWidgets": {},
     "nuid": "5f31fd76-a0b8-4131-bd28-5f81788f6963",
     "showTitle": false,
     "tableResultSettingsMap": {},
     "title": ""
    }
   },
   "source": [
    "## 🔧 Step 1: Register the Function via SQL\n",
    "Register a Python function in Unity Catalog using SQL. Update `arao.tools` to your catalog.schema as needed."
   ]
  },
  {
   "cell_type": "markdown",
   "metadata": {
    "application/vnd.databricks.v1+cell": {
     "cellMetadata": {},
     "inputWidgets": {},
     "nuid": "31df2215-44bc-46db-a38b-e1b594773ea2",
     "showTitle": false,
     "tableResultSettingsMap": {},
     "title": ""
    }
   },
   "source": [
    "## 🔧 Step 1: Register the Function in Unity Catalog"
   ]
  },
  {
   "cell_type": "code",
   "execution_count": 0,
   "metadata": {
    "application/vnd.databricks.v1+cell": {
     "cellMetadata": {
      "byteLimit": 2048000,
      "implicitDf": true,
      "rowLimit": 10000
     },
     "inputWidgets": {},
     "nuid": "377bf85a-727f-4997-bd92-c38888151fc9",
     "showTitle": false,
     "tableResultSettingsMap": {},
     "title": ""
    }
   },
   "outputs": [],
   "source": [
    "%sql\n",
    "CREATE FUNCTION IF NOT EXISTS arao.tools.extract_keywords(text STRING)\n",
    "RETURNS ARRAY<STRING>\n",
    "LANGUAGE PYTHON\n",
    "AS $$\n",
    "import re, collections\n",
    "stop = {\"the\", \"and\", \"of\", \"in\", \"to\", \"a\", \"an\", \"is\"}\n",
    "tokens = re.findall(r\"\\b\\w+\\b\", text.lower())\n",
    "return [w for w, _ in collections.Counter(\n",
    "    t for t in tokens if t not in stop\n",
    ").most_common(10)]\n",
    "$$;\n"
   ]
  },
  {
   "cell_type": "markdown",
   "metadata": {
    "application/vnd.databricks.v1+cell": {
     "cellMetadata": {},
     "inputWidgets": {},
     "nuid": "f510ca19-7299-4158-8137-c3b413bc4ae7",
     "showTitle": false,
     "tableResultSettingsMap": {},
     "title": ""
    }
   },
   "source": [
    "## 🧪 Step 2: Test the Function in SQL"
   ]
  },
  {
   "cell_type": "code",
   "execution_count": 0,
   "metadata": {
    "application/vnd.databricks.v1+cell": {
     "cellMetadata": {
      "byteLimit": 2048000,
      "implicitDf": true,
      "rowLimit": 10000
     },
     "inputWidgets": {},
     "nuid": "a85d12fb-5cad-4ab3-ad93-7ee0360ac3c2",
     "showTitle": false,
     "tableResultSettingsMap": {},
     "title": ""
    }
   },
   "outputs": [],
   "source": [
    "%sql\n",
    "SELECT arao.tools.extract_keywords(\n",
    "  'Databricks unifies data, engineering, analytics, and AI workflows into a single platform.'\n",
    ");\n"
   ]
  },
  {
   "cell_type": "markdown",
   "metadata": {
    "application/vnd.databricks.v1+cell": {
     "cellMetadata": {},
     "inputWidgets": {},
     "nuid": "5e887685-5465-4cef-a507-2e18d7ad5860",
     "showTitle": false,
     "tableResultSettingsMap": {},
     "title": ""
    }
   },
   "source": [
    "## 🧠 Step 3: Load the Function as a Tool in LangChain"
   ]
  },
  {
   "cell_type": "code",
   "execution_count": 0,
   "metadata": {
    "application/vnd.databricks.v1+cell": {
     "cellMetadata": {
      "byteLimit": 2048000,
      "rowLimit": 10000
     },
     "inputWidgets": {},
     "nuid": "a98653d6-05f4-4195-89d4-e96af5057dc1",
     "showTitle": false,
     "tableResultSettingsMap": {},
     "title": ""
    }
   },
   "outputs": [],
   "source": [
    "%pip install --upgrade databricks-langchain langchain-community langchain databricks-sql-connector\n",
    "dbutils.library.restartPython()"
   ]
  },
  {
   "cell_type": "markdown",
   "metadata": {
    "application/vnd.databricks.v1+cell": {
     "cellMetadata": {},
     "inputWidgets": {},
     "nuid": "0ccef6bd-7210-421d-84f6-6ac97d691850",
     "showTitle": false,
     "tableResultSettingsMap": {},
     "title": ""
    }
   },
   "source": [
    "---\n",
    "\n",
    "## 🛠️ Tool Wrapping\n",
    "\n",
    "Because the registered UC function expects a named parameter (`text`), we wrapped it like this:\n",
    "\n",
    "```python\n",
    "from langchain.tools import Tool\n",
    "from databricks_langchain import UCFunctionToolkit\n",
    "\n",
    "toolkit = UCFunctionToolkit(function_names=[\"arao.tools.extract_keywords\"])\n",
    "uc_tool = toolkit.tools[0]\n",
    "\n",
    "tools = [\n",
    "    Tool(\n",
    "        name=uc_tool.name,\n",
    "        func=lambda text: uc_tool.run({\"text\": text}),\n",
    "        description=uc_tool.description\n",
    "    )\n",
    "]\n",
    "```\n"
   ]
  },
  {
   "cell_type": "markdown",
   "metadata": {
    "application/vnd.databricks.v1+cell": {
     "cellMetadata": {},
     "inputWidgets": {},
     "nuid": "8321aaef-f9d5-44aa-a8e1-7ec612e61b35",
     "showTitle": false,
     "tableResultSettingsMap": {},
     "title": ""
    }
   },
   "source": [
    "---\n",
    "\n",
    "## 🔎 Model Limitation: No Function Calling\n",
    "\n",
    "We verified that `databricks-llama-4-maverick` does **not support** OpenAI-style tool calling via JSON schema (i.e., the `\"functions\"` field).  \n",
    "Attempting to use `AgentType.OPENAI_FUNCTIONS` returns a 400 error.\n",
    "\n",
    "One the cells below has code to identify this\n"
   ]
  },
  {
   "cell_type": "markdown",
   "metadata": {
    "application/vnd.databricks.v1+cell": {
     "cellMetadata": {},
     "inputWidgets": {},
     "nuid": "77fa4281-772c-42db-b944-8562bba74e73",
     "showTitle": false,
     "tableResultSettingsMap": {},
     "title": ""
    }
   },
   "source": [
    "## 🛠️ Step 3: Load the UC Tool in Python"
   ]
  },
  {
   "cell_type": "code",
   "execution_count": 0,
   "metadata": {
    "application/vnd.databricks.v1+cell": {
     "cellMetadata": {
      "byteLimit": 2048000,
      "rowLimit": 10000
     },
     "inputWidgets": {},
     "nuid": "4ddcaeb2-7725-436b-91e4-7cab991041eb",
     "showTitle": false,
     "tableResultSettingsMap": {},
     "title": ""
    }
   },
   "outputs": [],
   "source": [
    "from databricks_langchain import ChatDatabricks, UCFunctionToolkit\n",
    "\n",
    "# Replace with your actual model endpoint name\n",
    "llm = ChatDatabricks(endpoint=\"databricks-llama-4-maverick\", temperature=0.2)\n",
    "\n",
    "from langchain.tools import Tool\n",
    "from databricks_langchain import UCFunctionToolkit\n",
    "\n",
    "# Load the UC function\n",
    "toolkit = UCFunctionToolkit(function_names=[\"arao.tools.extract_keywords\"])\n",
    "uc_tool = toolkit.tools[0]  # assuming only one tool\n",
    "\n",
    "# Wrap it to ensure correct input mapping\n",
    "tools = [\n",
    "    Tool(\n",
    "        name=uc_tool.name,\n",
    "        func=lambda text: uc_tool.run({\"text\": text}),\n",
    "        description=uc_tool.description\n",
    "    )\n",
    "]\n"
   ]
  },
  {
   "cell_type": "markdown",
   "metadata": {
    "application/vnd.databricks.v1+cell": {
     "cellMetadata": {},
     "inputWidgets": {},
     "nuid": "4f305400-2fc5-411d-ba14-a06a383f9cd9",
     "showTitle": false,
     "tableResultSettingsMap": {},
     "title": ""
    }
   },
   "source": [
    "## 🧩 Step 4: Create a LangChain Agent and Use the Tool\n",
    "## 🧠 Step 5: Initialize the LangChain Agent (ReAct Style)\n",
    "\n",
    "\n",
    "We use `AgentType.ZERO_SHOT_REACT_DESCRIPTION`, which works via ReAct-style text prompts and is compatible with non-structured models:\n",
    "\n",
    "```python\n",
    "from databricks_langchain import ChatDatabricks\n",
    "from langchain.agents import initialize_agent, AgentType\n",
    "\n",
    "llm = ChatDatabricks(endpoint=\"databricks-llama-4-maverick\", temperature=0.2)\n",
    "\n",
    "agent = initialize_agent(\n",
    "    tools=tools,\n",
    "    llm=llm,\n",
    "    agent=AgentType.ZERO_SHOT_REACT_DESCRIPTION,\n",
    "    verbose=True\n",
    ")\n",
    "```\n",
    "---"
   ]
  },
  {
   "cell_type": "code",
   "execution_count": 0,
   "metadata": {
    "application/vnd.databricks.v1+cell": {
     "cellMetadata": {
      "byteLimit": 2048000,
      "rowLimit": 10000
     },
     "inputWidgets": {},
     "nuid": "3049300b-58d2-4851-9dd1-162cdcb38171",
     "showTitle": false,
     "tableResultSettingsMap": {},
     "title": ""
    }
   },
   "outputs": [],
   "source": [
    "from langchain.agents import initialize_agent, AgentType\n",
    "\n",
    "agent = initialize_agent(\n",
    "    tools=tools,\n",
    "    llm=llm,\n",
    "    agent=AgentType.ZERO_SHOT_REACT_DESCRIPTION,  # ✅ fallback agent type\n",
    "    verbose=True\n",
    ")\n",
    "\n"
   ]
  },
  {
   "cell_type": "markdown",
   "metadata": {
    "application/vnd.databricks.v1+cell": {
     "cellMetadata": {},
     "inputWidgets": {},
     "nuid": "690033ff-142a-41fc-b712-d52accc8c1fc",
     "showTitle": false,
     "tableResultSettingsMap": {},
     "title": ""
    }
   },
   "source": [
    "---\n",
    "\n",
    "## 🧪 Example Query\n",
    "\n",
    "```python\n",
    "response = agent.run(\"Extract keywords from: 'Databricks simplifies AI workflows across enterprises.'\")\n",
    "print(response)\n",
    "```\n",
    "\n",
    "**Output:**\n",
    "```\n",
    "['databricks', 'simplifies', 'ai', 'workflows', 'across', 'enterprises']\n",
    "```"
   ]
  },
  {
   "cell_type": "code",
   "execution_count": 0,
   "metadata": {
    "application/vnd.databricks.v1+cell": {
     "cellMetadata": {
      "byteLimit": 2048000,
      "rowLimit": 10000
     },
     "inputWidgets": {},
     "nuid": "1d86896f-7612-4634-906f-5a159d44a7ae",
     "showTitle": false,
     "tableResultSettingsMap": {},
     "title": ""
    }
   },
   "outputs": [],
   "source": [
    "response = agent.run(\"Extract keywords from: 'Databricks simplifies AI workflows across enterprises.'\")\n",
    "print(response)"
   ]
  },
  {
   "cell_type": "markdown",
   "metadata": {
    "application/vnd.databricks.v1+cell": {
     "cellMetadata": {},
     "inputWidgets": {},
     "nuid": "2a6605ca-5de7-40e5-a515-2aa3fb15caaa",
     "showTitle": false,
     "tableResultSettingsMap": {},
     "title": ""
    }
   },
   "source": [
    "---\n",
    "\n",
    "## ✅ Summary\n",
    "\n",
    "| Component | Value |\n",
    "|----------|-------|\n",
    "| LLM | `databricks-llama-4-maverick` |\n",
    "| Tool Name | `arao.tools.extract_keywords` |\n",
    "| Agent Type | `ZERO_SHOT_REACT_DESCRIPTION` |\n",
    "| Function Calling | ❌ Not supported |\n",
    "| Status | 🟢 Working end-to-end |\n",
    "\n",
    "---\n",
    "\n",
    "The Below cell helps identify the function calling style"
   ]
  },
  {
   "cell_type": "code",
   "execution_count": 0,
   "metadata": {
    "application/vnd.databricks.v1+cell": {
     "cellMetadata": {
      "byteLimit": 2048000,
      "rowLimit": 10000
     },
     "inputWidgets": {},
     "nuid": "0e9fb883-366b-4f97-a998-d729296aee0f",
     "showTitle": false,
     "tableResultSettingsMap": {},
     "title": ""
    }
   },
   "outputs": [],
   "source": [
    "import requests\n",
    "import os\n",
    "import json\n",
    "\n",
    "# Replace with your model serving endpoint\n",
    "endpoint_name = \"databricks-llama-4-maverick\"\n",
    "\n",
    "# Build the serving endpoint URL\n",
    "host = spark.conf.get(\"spark.databricks.workspaceUrl\")\n",
    "url = f\"https://{host}/serving-endpoints/{endpoint_name}/invocations\"\n",
    "\n",
    "# Get your notebook's current token automatically\n",
    "token = dbutils.notebook.entry_point.getDbutils().notebook().getContext().apiToken().get()\n",
    "\n",
    "# Create a test OpenAI-style function-calling payload\n",
    "payload = {\n",
    "    \"messages\": [\n",
    "        {\"role\": \"user\", \"content\": \"What's the weather in San Francisco?\"},\n",
    "    ],\n",
    "    \"functions\": [\n",
    "        {\n",
    "            \"name\": \"get_weather\",\n",
    "            \"description\": \"Get weather info\",\n",
    "            \"parameters\": {\n",
    "                \"type\": \"object\",\n",
    "                \"properties\": {\n",
    "                    \"location\": {\"type\": \"string\"}\n",
    "                },\n",
    "                \"required\": [\"location\"]\n",
    "            }\n",
    "        }\n",
    "    ],\n",
    "    \"function_call\": \"auto\"\n",
    "}\n",
    "\n",
    "headers = {\n",
    "    \"Authorization\": f\"Bearer {token}\",\n",
    "    \"Content-Type\": \"application/json\"\n",
    "}\n",
    "\n",
    "# Make the request and interpret the result\n",
    "response = requests.post(url, headers=headers, json=payload)\n",
    "\n",
    "if response.status_code == 200:\n",
    "    print(\"✅ This model supports OpenAI-style function calling.\")\n",
    "else:\n",
    "    error_text = response.text\n",
    "    if \"unknown field\" in error_text and \"functions\" in error_text:\n",
    "        print(\"❌ This model does NOT support OpenAI-style function calling.\")\n",
    "    else:\n",
    "        print(\"⚠️ Unexpected error:\")\n",
    "        print(error_text)"
   ]
  },
  {
   "cell_type": "markdown",
   "metadata": {
    "application/vnd.databricks.v1+cell": {
     "cellMetadata": {},
     "inputWidgets": {},
     "nuid": "fb20ea68-fe1e-44bb-8eaa-b4ab3856b8c9",
     "showTitle": false,
     "tableResultSettingsMap": {},
     "title": ""
    }
   },
   "source": [
    "✅ Done! You have now registered, loaded, and used a Unity Catalog tool in a generative AI workflow."
   ]
  }
 ],
 "metadata": {
  "application/vnd.databricks.v1+notebook": {
   "computePreferences": null,
   "dashboards": [],
   "environmentMetadata": null,
   "inputWidgetPreferences": null,
   "language": "python",
   "notebookMetadata": {
    "mostRecentlyExecutedCommandWithImplicitDF": {
     "commandId": 913238801065950,
     "dataframes": [
      "_sqldf"
     ]
    },
    "pythonIndentUnit": 2
   },
   "notebookName": "Databricks-Agent-UCTool",
   "widgets": {}
  },
  "language_info": {
   "name": "python"
  }
 },
 "nbformat": 4,
 "nbformat_minor": 0
}
